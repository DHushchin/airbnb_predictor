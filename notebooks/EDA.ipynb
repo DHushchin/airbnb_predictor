{
 "cells": [
  {
   "cell_type": "code",
   "execution_count": 116,
   "id": "f1b749bb",
   "metadata": {
    "ExecuteTime": {
     "end_time": "2022-06-27T21:23:09.762355Z",
     "start_time": "2022-06-27T21:23:07.654355Z"
    },
    "pycharm": {
     "name": "#%%\n"
    }
   },
   "outputs": [],
   "source": [
    "import os\n",
    "import sys\n",
    "\n",
    "import numpy as np\n",
    "import pandas as pd\n",
    "\n",
    "from sklearn.ensemble import RandomForestClassifier\n",
    "from sklearn.model_selection import RandomizedSearchCV, StratifiedKFold, train_test_split\n",
    "from sklearn.metrics import mean_absolute_error, mean_squared_error, r2_score\n",
    "\n",
    "from scipy.stats import randint\n",
    "\n",
    "import seaborn as sns\n",
    "import matplotlib.pyplot as plt"
   ]
  },
  {
   "cell_type": "markdown",
   "id": "80b0e4c1",
   "metadata": {
    "pycharm": {
     "name": "#%% md\n"
    }
   },
   "source": [
    "# Constants"
   ]
  },
  {
   "cell_type": "code",
   "execution_count": 117,
   "id": "b4b559ad",
   "metadata": {
    "ExecuteTime": {
     "end_time": "2022-06-27T21:23:09.778355Z",
     "start_time": "2022-06-27T21:23:09.763355Z"
    },
    "pycharm": {
     "name": "#%%\n"
    }
   },
   "outputs": [],
   "source": [
    "RANDOM_STATE = 42 # to get the same random values with different .ipynb sessions\n",
    "N_ITER = 3 # number of iterations while searching hyperparameters of the model\n",
    "N_CV = 5 # number of folds in crossvalidation\n",
    "N_JOBS = 2 # number of jobs for parallelization"
   ]
  },
  {
   "cell_type": "code",
   "execution_count": 118,
   "id": "a0155873",
   "metadata": {
    "ExecuteTime": {
     "end_time": "2022-06-27T21:23:09.794355Z",
     "start_time": "2022-06-27T21:23:09.780356Z"
    },
    "pycharm": {
     "name": "#%%\n"
    }
   },
   "outputs": [],
   "source": [
    "PROJECT_PATH = os.getcwd() # get current working directory\n",
    "PROJECT_PATH = os.path.join(PROJECT_PATH, \"..\") # go to higher folder \n",
    "\n",
    "DATA_PATH = os.path.join(PROJECT_PATH, \"data\") # define path to the data"
   ]
  },
  {
   "cell_type": "code",
   "execution_count": 119,
   "id": "50c872ff",
   "metadata": {
    "ExecuteTime": {
     "end_time": "2022-06-27T21:23:09.809355Z",
     "start_time": "2022-06-27T21:23:09.796357Z"
    },
    "pycharm": {
     "name": "#%%\n"
    }
   },
   "outputs": [],
   "source": [
    "sys.path.append(PROJECT_PATH) # add higher direcotory to load self-written metrics\n",
    "from tools.metrics import * "
   ]
  },
  {
   "cell_type": "markdown",
   "id": "9185231f",
   "metadata": {
    "pycharm": {
     "name": "#%% md\n"
    }
   },
   "source": [
    "# Read Data"
   ]
  },
  {
   "cell_type": "code",
   "execution_count": 120,
   "id": "e4a7b327",
   "metadata": {
    "ExecuteTime": {
     "end_time": "2022-06-27T21:23:09.840355Z",
     "start_time": "2022-06-27T21:23:09.826357Z"
    },
    "pycharm": {
     "name": "#%%\n"
    }
   },
   "outputs": [],
   "source": [
    "df = pd.read_csv(os.path.join(DATA_PATH, \"train.csv\"), encoding=\"cp1252\",)\n",
    "df.drop(columns=['id'], inplace=True)"
   ]
  },
  {
   "cell_type": "code",
   "execution_count": 121,
   "id": "3f293536",
   "metadata": {
    "ExecuteTime": {
     "end_time": "2022-06-27T21:23:09.872359Z",
     "start_time": "2022-06-27T21:23:09.841359Z"
    },
    "pycharm": {
     "name": "#%%\n"
    }
   },
   "outputs": [
    {
     "data": {
      "text/html": [
       "<div>\n",
       "<style scoped>\n",
       "    .dataframe tbody tr th:only-of-type {\n",
       "        vertical-align: middle;\n",
       "    }\n",
       "\n",
       "    .dataframe tbody tr th {\n",
       "        vertical-align: top;\n",
       "    }\n",
       "\n",
       "    .dataframe thead th {\n",
       "        text-align: right;\n",
       "    }\n",
       "</style>\n",
       "<table border=\"1\" class=\"dataframe\">\n",
       "  <thead>\n",
       "    <tr style=\"text-align: right;\">\n",
       "      <th></th>\n",
       "      <th>accommodates</th>\n",
       "      <th>bathrooms</th>\n",
       "      <th>bedrooms</th>\n",
       "      <th>beds</th>\n",
       "      <th>cleaning_fee</th>\n",
       "      <th>host_response_rate</th>\n",
       "      <th>latitude</th>\n",
       "      <th>log_price</th>\n",
       "      <th>longitude</th>\n",
       "      <th>number_of_reviews</th>\n",
       "      <th>...</th>\n",
       "      <th>Waterfront</th>\n",
       "      <th>first_review_Year</th>\n",
       "      <th>first_review_Month</th>\n",
       "      <th>first_review_Day</th>\n",
       "      <th>last_review_Year</th>\n",
       "      <th>last_review_Month</th>\n",
       "      <th>last_review_Day</th>\n",
       "      <th>host_since_Year</th>\n",
       "      <th>host_since_Month</th>\n",
       "      <th>host_since_Day</th>\n",
       "    </tr>\n",
       "  </thead>\n",
       "  <tbody>\n",
       "    <tr>\n",
       "      <th>0</th>\n",
       "      <td>3</td>\n",
       "      <td>1.0</td>\n",
       "      <td>1.0</td>\n",
       "      <td>1.0</td>\n",
       "      <td>1</td>\n",
       "      <td>0</td>\n",
       "      <td>40.696524</td>\n",
       "      <td>5.010635</td>\n",
       "      <td>-73.991617</td>\n",
       "      <td>2</td>\n",
       "      <td>...</td>\n",
       "      <td>0</td>\n",
       "      <td>2016.0</td>\n",
       "      <td>6.0</td>\n",
       "      <td>18.0</td>\n",
       "      <td>2016.0</td>\n",
       "      <td>7.0</td>\n",
       "      <td>18.0</td>\n",
       "      <td>2012.0</td>\n",
       "      <td>3.0</td>\n",
       "      <td>26.0</td>\n",
       "    </tr>\n",
       "    <tr>\n",
       "      <th>1</th>\n",
       "      <td>7</td>\n",
       "      <td>1.0</td>\n",
       "      <td>3.0</td>\n",
       "      <td>3.0</td>\n",
       "      <td>1</td>\n",
       "      <td>100</td>\n",
       "      <td>40.766115</td>\n",
       "      <td>5.129899</td>\n",
       "      <td>-73.989040</td>\n",
       "      <td>6</td>\n",
       "      <td>...</td>\n",
       "      <td>0</td>\n",
       "      <td>2017.0</td>\n",
       "      <td>8.0</td>\n",
       "      <td>5.0</td>\n",
       "      <td>2017.0</td>\n",
       "      <td>9.0</td>\n",
       "      <td>23.0</td>\n",
       "      <td>2017.0</td>\n",
       "      <td>6.0</td>\n",
       "      <td>19.0</td>\n",
       "    </tr>\n",
       "    <tr>\n",
       "      <th>2</th>\n",
       "      <td>5</td>\n",
       "      <td>1.0</td>\n",
       "      <td>1.0</td>\n",
       "      <td>3.0</td>\n",
       "      <td>1</td>\n",
       "      <td>100</td>\n",
       "      <td>40.808110</td>\n",
       "      <td>4.976734</td>\n",
       "      <td>-73.943756</td>\n",
       "      <td>10</td>\n",
       "      <td>...</td>\n",
       "      <td>0</td>\n",
       "      <td>2017.0</td>\n",
       "      <td>4.0</td>\n",
       "      <td>30.0</td>\n",
       "      <td>2017.0</td>\n",
       "      <td>9.0</td>\n",
       "      <td>14.0</td>\n",
       "      <td>2016.0</td>\n",
       "      <td>10.0</td>\n",
       "      <td>25.0</td>\n",
       "    </tr>\n",
       "    <tr>\n",
       "      <th>3</th>\n",
       "      <td>4</td>\n",
       "      <td>1.0</td>\n",
       "      <td>2.0</td>\n",
       "      <td>2.0</td>\n",
       "      <td>1</td>\n",
       "      <td>0</td>\n",
       "      <td>37.772004</td>\n",
       "      <td>6.620073</td>\n",
       "      <td>-122.431619</td>\n",
       "      <td>0</td>\n",
       "      <td>...</td>\n",
       "      <td>0</td>\n",
       "      <td>0.0</td>\n",
       "      <td>0.0</td>\n",
       "      <td>0.0</td>\n",
       "      <td>0.0</td>\n",
       "      <td>0.0</td>\n",
       "      <td>0.0</td>\n",
       "      <td>2015.0</td>\n",
       "      <td>4.0</td>\n",
       "      <td>19.0</td>\n",
       "    </tr>\n",
       "    <tr>\n",
       "      <th>4</th>\n",
       "      <td>2</td>\n",
       "      <td>1.0</td>\n",
       "      <td>0.0</td>\n",
       "      <td>1.0</td>\n",
       "      <td>1</td>\n",
       "      <td>100</td>\n",
       "      <td>38.925627</td>\n",
       "      <td>4.744932</td>\n",
       "      <td>-77.034596</td>\n",
       "      <td>4</td>\n",
       "      <td>...</td>\n",
       "      <td>0</td>\n",
       "      <td>2015.0</td>\n",
       "      <td>5.0</td>\n",
       "      <td>12.0</td>\n",
       "      <td>2017.0</td>\n",
       "      <td>1.0</td>\n",
       "      <td>22.0</td>\n",
       "      <td>2015.0</td>\n",
       "      <td>3.0</td>\n",
       "      <td>1.0</td>\n",
       "    </tr>\n",
       "  </tbody>\n",
       "</table>\n",
       "<p>5 rows × 212 columns</p>\n",
       "</div>"
      ],
      "text/plain": [
       "   accommodates  bathrooms  bedrooms  beds  cleaning_fee  host_response_rate  \\\n",
       "0             3        1.0       1.0   1.0             1                   0   \n",
       "1             7        1.0       3.0   3.0             1                 100   \n",
       "2             5        1.0       1.0   3.0             1                 100   \n",
       "3             4        1.0       2.0   2.0             1                   0   \n",
       "4             2        1.0       0.0   1.0             1                 100   \n",
       "\n",
       "    latitude  log_price   longitude  number_of_reviews  ...  Waterfront  \\\n",
       "0  40.696524   5.010635  -73.991617                  2  ...           0   \n",
       "1  40.766115   5.129899  -73.989040                  6  ...           0   \n",
       "2  40.808110   4.976734  -73.943756                 10  ...           0   \n",
       "3  37.772004   6.620073 -122.431619                  0  ...           0   \n",
       "4  38.925627   4.744932  -77.034596                  4  ...           0   \n",
       "\n",
       "   first_review_Year  first_review_Month  first_review_Day  last_review_Year  \\\n",
       "0             2016.0                 6.0              18.0            2016.0   \n",
       "1             2017.0                 8.0               5.0            2017.0   \n",
       "2             2017.0                 4.0              30.0            2017.0   \n",
       "3                0.0                 0.0               0.0               0.0   \n",
       "4             2015.0                 5.0              12.0            2017.0   \n",
       "\n",
       "   last_review_Month  last_review_Day  host_since_Year  host_since_Month  \\\n",
       "0                7.0             18.0           2012.0               3.0   \n",
       "1                9.0             23.0           2017.0               6.0   \n",
       "2                9.0             14.0           2016.0              10.0   \n",
       "3                0.0              0.0           2015.0               4.0   \n",
       "4                1.0             22.0           2015.0               3.0   \n",
       "\n",
       "   host_since_Day  \n",
       "0            26.0  \n",
       "1            19.0  \n",
       "2            25.0  \n",
       "3            19.0  \n",
       "4             1.0  \n",
       "\n",
       "[5 rows x 212 columns]"
      ]
     },
     "execution_count": 121,
     "metadata": {},
     "output_type": "execute_result"
    }
   ],
   "source": [
    "df.head()"
   ]
  },
  {
   "cell_type": "code",
   "execution_count": 122,
   "id": "5893fd01",
   "metadata": {
    "pycharm": {
     "name": "#%%\n"
    }
   },
   "outputs": [
    {
     "data": {
      "text/html": [
       "<div>\n",
       "<style scoped>\n",
       "    .dataframe tbody tr th:only-of-type {\n",
       "        vertical-align: middle;\n",
       "    }\n",
       "\n",
       "    .dataframe tbody tr th {\n",
       "        vertical-align: top;\n",
       "    }\n",
       "\n",
       "    .dataframe thead th {\n",
       "        text-align: right;\n",
       "    }\n",
       "</style>\n",
       "<table border=\"1\" class=\"dataframe\">\n",
       "  <thead>\n",
       "    <tr style=\"text-align: right;\">\n",
       "      <th></th>\n",
       "      <th>accommodates</th>\n",
       "      <th>bathrooms</th>\n",
       "      <th>bedrooms</th>\n",
       "      <th>beds</th>\n",
       "      <th>cleaning_fee</th>\n",
       "      <th>host_response_rate</th>\n",
       "      <th>latitude</th>\n",
       "      <th>log_price</th>\n",
       "      <th>longitude</th>\n",
       "      <th>number_of_reviews</th>\n",
       "      <th>...</th>\n",
       "      <th>Waterfront</th>\n",
       "      <th>first_review_Year</th>\n",
       "      <th>first_review_Month</th>\n",
       "      <th>first_review_Day</th>\n",
       "      <th>last_review_Year</th>\n",
       "      <th>last_review_Month</th>\n",
       "      <th>last_review_Day</th>\n",
       "      <th>host_since_Year</th>\n",
       "      <th>host_since_Month</th>\n",
       "      <th>host_since_Day</th>\n",
       "    </tr>\n",
       "  </thead>\n",
       "  <tbody>\n",
       "    <tr>\n",
       "      <th>count</th>\n",
       "      <td>74111.000000</td>\n",
       "      <td>74111.000000</td>\n",
       "      <td>74111.000000</td>\n",
       "      <td>74111.000000</td>\n",
       "      <td>74111.000000</td>\n",
       "      <td>74111.000000</td>\n",
       "      <td>74111.000000</td>\n",
       "      <td>74111.000000</td>\n",
       "      <td>74111.000000</td>\n",
       "      <td>74111.000000</td>\n",
       "      <td>...</td>\n",
       "      <td>74111.000000</td>\n",
       "      <td>74111.000000</td>\n",
       "      <td>74111.000000</td>\n",
       "      <td>74111.000000</td>\n",
       "      <td>74111.000000</td>\n",
       "      <td>74111.000000</td>\n",
       "      <td>74111.000000</td>\n",
       "      <td>74111.000000</td>\n",
       "      <td>74111.000000</td>\n",
       "      <td>74111.000000</td>\n",
       "    </tr>\n",
       "    <tr>\n",
       "      <th>mean</th>\n",
       "      <td>3.155146</td>\n",
       "      <td>1.231929</td>\n",
       "      <td>1.264239</td>\n",
       "      <td>1.707844</td>\n",
       "      <td>0.734075</td>\n",
       "      <td>71.055201</td>\n",
       "      <td>38.445958</td>\n",
       "      <td>4.782069</td>\n",
       "      <td>-92.397525</td>\n",
       "      <td>20.900568</td>\n",
       "      <td>...</td>\n",
       "      <td>0.001552</td>\n",
       "      <td>1584.095438</td>\n",
       "      <td>5.146469</td>\n",
       "      <td>12.129603</td>\n",
       "      <td>1586.010133</td>\n",
       "      <td>5.204814</td>\n",
       "      <td>13.178948</td>\n",
       "      <td>2008.941992</td>\n",
       "      <td>6.524268</td>\n",
       "      <td>15.595957</td>\n",
       "    </tr>\n",
       "    <tr>\n",
       "      <th>std</th>\n",
       "      <td>2.153589</td>\n",
       "      <td>0.584780</td>\n",
       "      <td>0.852773</td>\n",
       "      <td>1.255092</td>\n",
       "      <td>0.441828</td>\n",
       "      <td>43.087044</td>\n",
       "      <td>3.080167</td>\n",
       "      <td>0.717394</td>\n",
       "      <td>21.705322</td>\n",
       "      <td>37.828641</td>\n",
       "      <td>...</td>\n",
       "      <td>0.039362</td>\n",
       "      <td>826.712164</td>\n",
       "      <td>3.898664</td>\n",
       "      <td>10.152619</td>\n",
       "      <td>826.482416</td>\n",
       "      <td>3.707618</td>\n",
       "      <td>10.650738</td>\n",
       "      <td>101.328302</td>\n",
       "      <td>3.334992</td>\n",
       "      <td>8.809573</td>\n",
       "    </tr>\n",
       "    <tr>\n",
       "      <th>min</th>\n",
       "      <td>1.000000</td>\n",
       "      <td>0.000000</td>\n",
       "      <td>0.000000</td>\n",
       "      <td>0.000000</td>\n",
       "      <td>0.000000</td>\n",
       "      <td>0.000000</td>\n",
       "      <td>33.338905</td>\n",
       "      <td>0.000000</td>\n",
       "      <td>-122.511500</td>\n",
       "      <td>0.000000</td>\n",
       "      <td>...</td>\n",
       "      <td>0.000000</td>\n",
       "      <td>0.000000</td>\n",
       "      <td>0.000000</td>\n",
       "      <td>0.000000</td>\n",
       "      <td>0.000000</td>\n",
       "      <td>0.000000</td>\n",
       "      <td>0.000000</td>\n",
       "      <td>0.000000</td>\n",
       "      <td>0.000000</td>\n",
       "      <td>0.000000</td>\n",
       "    </tr>\n",
       "    <tr>\n",
       "      <th>25%</th>\n",
       "      <td>2.000000</td>\n",
       "      <td>1.000000</td>\n",
       "      <td>1.000000</td>\n",
       "      <td>1.000000</td>\n",
       "      <td>0.000000</td>\n",
       "      <td>0.000000</td>\n",
       "      <td>34.127908</td>\n",
       "      <td>4.317488</td>\n",
       "      <td>-118.342374</td>\n",
       "      <td>1.000000</td>\n",
       "      <td>...</td>\n",
       "      <td>0.000000</td>\n",
       "      <td>2013.000000</td>\n",
       "      <td>1.000000</td>\n",
       "      <td>2.000000</td>\n",
       "      <td>2015.000000</td>\n",
       "      <td>1.000000</td>\n",
       "      <td>1.000000</td>\n",
       "      <td>2013.000000</td>\n",
       "      <td>4.000000</td>\n",
       "      <td>8.000000</td>\n",
       "    </tr>\n",
       "    <tr>\n",
       "      <th>50%</th>\n",
       "      <td>2.000000</td>\n",
       "      <td>1.000000</td>\n",
       "      <td>1.000000</td>\n",
       "      <td>1.000000</td>\n",
       "      <td>1.000000</td>\n",
       "      <td>100.000000</td>\n",
       "      <td>40.662138</td>\n",
       "      <td>4.709530</td>\n",
       "      <td>-76.996965</td>\n",
       "      <td>6.000000</td>\n",
       "      <td>...</td>\n",
       "      <td>0.000000</td>\n",
       "      <td>2015.000000</td>\n",
       "      <td>5.000000</td>\n",
       "      <td>11.000000</td>\n",
       "      <td>2017.000000</td>\n",
       "      <td>5.000000</td>\n",
       "      <td>14.000000</td>\n",
       "      <td>2014.000000</td>\n",
       "      <td>7.000000</td>\n",
       "      <td>16.000000</td>\n",
       "    </tr>\n",
       "    <tr>\n",
       "      <th>75%</th>\n",
       "      <td>4.000000</td>\n",
       "      <td>1.000000</td>\n",
       "      <td>1.000000</td>\n",
       "      <td>2.000000</td>\n",
       "      <td>1.000000</td>\n",
       "      <td>100.000000</td>\n",
       "      <td>40.746096</td>\n",
       "      <td>5.220356</td>\n",
       "      <td>-73.954660</td>\n",
       "      <td>23.000000</td>\n",
       "      <td>...</td>\n",
       "      <td>0.000000</td>\n",
       "      <td>2016.000000</td>\n",
       "      <td>8.000000</td>\n",
       "      <td>21.000000</td>\n",
       "      <td>2017.000000</td>\n",
       "      <td>9.000000</td>\n",
       "      <td>23.000000</td>\n",
       "      <td>2015.000000</td>\n",
       "      <td>9.000000</td>\n",
       "      <td>23.000000</td>\n",
       "    </tr>\n",
       "    <tr>\n",
       "      <th>max</th>\n",
       "      <td>16.000000</td>\n",
       "      <td>8.000000</td>\n",
       "      <td>10.000000</td>\n",
       "      <td>18.000000</td>\n",
       "      <td>1.000000</td>\n",
       "      <td>100.000000</td>\n",
       "      <td>42.390437</td>\n",
       "      <td>7.600402</td>\n",
       "      <td>-70.985047</td>\n",
       "      <td>605.000000</td>\n",
       "      <td>...</td>\n",
       "      <td>1.000000</td>\n",
       "      <td>2017.000000</td>\n",
       "      <td>12.000000</td>\n",
       "      <td>31.000000</td>\n",
       "      <td>2017.000000</td>\n",
       "      <td>12.000000</td>\n",
       "      <td>31.000000</td>\n",
       "      <td>2017.000000</td>\n",
       "      <td>12.000000</td>\n",
       "      <td>31.000000</td>\n",
       "    </tr>\n",
       "  </tbody>\n",
       "</table>\n",
       "<p>8 rows × 212 columns</p>\n",
       "</div>"
      ],
      "text/plain": [
       "       accommodates     bathrooms      bedrooms          beds  cleaning_fee  \\\n",
       "count  74111.000000  74111.000000  74111.000000  74111.000000  74111.000000   \n",
       "mean       3.155146      1.231929      1.264239      1.707844      0.734075   \n",
       "std        2.153589      0.584780      0.852773      1.255092      0.441828   \n",
       "min        1.000000      0.000000      0.000000      0.000000      0.000000   \n",
       "25%        2.000000      1.000000      1.000000      1.000000      0.000000   \n",
       "50%        2.000000      1.000000      1.000000      1.000000      1.000000   \n",
       "75%        4.000000      1.000000      1.000000      2.000000      1.000000   \n",
       "max       16.000000      8.000000     10.000000     18.000000      1.000000   \n",
       "\n",
       "       host_response_rate      latitude     log_price     longitude  \\\n",
       "count        74111.000000  74111.000000  74111.000000  74111.000000   \n",
       "mean            71.055201     38.445958      4.782069    -92.397525   \n",
       "std             43.087044      3.080167      0.717394     21.705322   \n",
       "min              0.000000     33.338905      0.000000   -122.511500   \n",
       "25%              0.000000     34.127908      4.317488   -118.342374   \n",
       "50%            100.000000     40.662138      4.709530    -76.996965   \n",
       "75%            100.000000     40.746096      5.220356    -73.954660   \n",
       "max            100.000000     42.390437      7.600402    -70.985047   \n",
       "\n",
       "       number_of_reviews  ...    Waterfront  first_review_Year  \\\n",
       "count       74111.000000  ...  74111.000000       74111.000000   \n",
       "mean           20.900568  ...      0.001552        1584.095438   \n",
       "std            37.828641  ...      0.039362         826.712164   \n",
       "min             0.000000  ...      0.000000           0.000000   \n",
       "25%             1.000000  ...      0.000000        2013.000000   \n",
       "50%             6.000000  ...      0.000000        2015.000000   \n",
       "75%            23.000000  ...      0.000000        2016.000000   \n",
       "max           605.000000  ...      1.000000        2017.000000   \n",
       "\n",
       "       first_review_Month  first_review_Day  last_review_Year  \\\n",
       "count        74111.000000      74111.000000      74111.000000   \n",
       "mean             5.146469         12.129603       1586.010133   \n",
       "std              3.898664         10.152619        826.482416   \n",
       "min              0.000000          0.000000          0.000000   \n",
       "25%              1.000000          2.000000       2015.000000   \n",
       "50%              5.000000         11.000000       2017.000000   \n",
       "75%              8.000000         21.000000       2017.000000   \n",
       "max             12.000000         31.000000       2017.000000   \n",
       "\n",
       "       last_review_Month  last_review_Day  host_since_Year  host_since_Month  \\\n",
       "count       74111.000000     74111.000000     74111.000000      74111.000000   \n",
       "mean            5.204814        13.178948      2008.941992          6.524268   \n",
       "std             3.707618        10.650738       101.328302          3.334992   \n",
       "min             0.000000         0.000000         0.000000          0.000000   \n",
       "25%             1.000000         1.000000      2013.000000          4.000000   \n",
       "50%             5.000000        14.000000      2014.000000          7.000000   \n",
       "75%             9.000000        23.000000      2015.000000          9.000000   \n",
       "max            12.000000        31.000000      2017.000000         12.000000   \n",
       "\n",
       "       host_since_Day  \n",
       "count    74111.000000  \n",
       "mean        15.595957  \n",
       "std          8.809573  \n",
       "min          0.000000  \n",
       "25%          8.000000  \n",
       "50%         16.000000  \n",
       "75%         23.000000  \n",
       "max         31.000000  \n",
       "\n",
       "[8 rows x 212 columns]"
      ]
     },
     "execution_count": 122,
     "metadata": {},
     "output_type": "execute_result"
    }
   ],
   "source": [
    "df.describe()"
   ]
  },
  {
   "cell_type": "code",
   "execution_count": null,
   "id": "8d2a46b4",
   "metadata": {},
   "outputs": [],
   "source": []
  },
  {
   "cell_type": "markdown",
   "id": "a447fe2d",
   "metadata": {
    "pycharm": {
     "name": "#%% md\n"
    }
   },
   "source": [
    "# Exploratory Data Analysis"
   ]
  },
  {
   "cell_type": "code",
   "execution_count": 123,
   "id": "4b317d0f",
   "metadata": {
    "ExecuteTime": {
     "end_time": "2022-06-27T21:23:09.903356Z",
     "start_time": "2022-06-27T21:23:09.889357Z"
    },
    "pycharm": {
     "name": "#%%\n"
    }
   },
   "outputs": [],
   "source": [
    "# define list of columns to train model\n",
    "COLS_TO_TRAIN = []"
   ]
  },
  {
   "cell_type": "markdown",
   "id": "74e0f1fd",
   "metadata": {
    "pycharm": {
     "name": "#%% md\n"
    }
   },
   "source": [
    "# Descriptive statistics"
   ]
  },
  {
   "cell_type": "code",
   "execution_count": 124,
   "id": "bc018c08",
   "metadata": {
    "pycharm": {
     "name": "#%%\n"
    }
   },
   "outputs": [],
   "source": [
    "# code for feature selection"
   ]
  },
  {
   "cell_type": "markdown",
   "id": "568db54d",
   "metadata": {
    "pycharm": {
     "name": "#%% md\n"
    }
   },
   "source": [
    "# Generate train, test, inference"
   ]
  },
  {
   "cell_type": "markdown",
   "id": "87b865a1",
   "metadata": {
    "pycharm": {
     "name": "#%% md\n"
    }
   },
   "source": [
    "Data is split into 3 parts: \n",
    "\n",
    "    - train - 80% of observations\n",
    "    \n",
    "    - test - 20% of observations\n",
    "    \n",
    "    \n",
    "Train will be used to train a model.\n",
    "\n",
    "Test - to evaluate its performance."
   ]
  },
  {
   "cell_type": "code",
   "execution_count": 125,
   "id": "5a6cddb2",
   "metadata": {
    "ExecuteTime": {
     "end_time": "2022-06-27T21:23:10.602941Z",
     "start_time": "2022-06-27T21:23:10.587851Z"
    },
    "pycharm": {
     "name": "#%%\n"
    }
   },
   "outputs": [],
   "source": [
    "targets = df['log_price']\n",
    "features = df.drop(columns=['log_price'], axis=1)\n",
    "\n",
    "x_train, x_test, y_train, y_test = train_test_split(\n",
    "    features, targets, train_size=0.8, random_state=RANDOM_STATE, shuffle=True\n",
    ")"
   ]
  },
  {
   "cell_type": "code",
   "execution_count": 126,
   "id": "8610894d",
   "metadata": {},
   "outputs": [
    {
     "name": "stdout",
     "output_type": "stream",
     "text": [
      "Check shapes of inputs to the model (train stage): \n",
      "Features:  (59288, 211)\n",
      "Target:  (59288,)\n"
     ]
    }
   ],
   "source": [
    "print(\"Check shapes of inputs to the model (train stage): \")\n",
    "print(\"Features: \", x_train.shape)\n",
    "print(\"Target: \", y_train.shape)"
   ]
  },
  {
   "cell_type": "code",
   "execution_count": 127,
   "id": "7377148f",
   "metadata": {},
   "outputs": [
    {
     "name": "stdout",
     "output_type": "stream",
     "text": [
      "Check shapes of inputs to the model (test stage): \n",
      "Features:  (14823, 211)\n",
      "Target:  (14823,)\n"
     ]
    }
   ],
   "source": [
    "print(\"Check shapes of inputs to the model (test stage): \")\n",
    "print(\"Features: \", x_test.shape)\n",
    "print(\"Target: \", y_test.shape)"
   ]
  },
  {
   "cell_type": "markdown",
   "id": "d450ccc7",
   "metadata": {
    "pycharm": {
     "name": "#%% md\n"
    }
   },
   "source": [
    "# Develop a model"
   ]
  },
  {
   "cell_type": "code",
   "execution_count": 128,
   "id": "018777a3",
   "metadata": {
    "pycharm": {
     "is_executing": true,
     "name": "#%%\n"
    }
   },
   "outputs": [],
   "source": [
    "from sklearn.ensemble import RandomForestRegressor\n",
    "\n",
    "rfr = RandomForestRegressor()\n",
    "\n",
    "param_grid = { \n",
    "                \"n_estimators\": [10, 100, 200],\n",
    "                \"max_features\": [\"sqrt\", \"log2\"],\n",
    "                \"bootstrap\": [True, False]\n",
    "             }\n",
    "\n",
    "# initialize random search object\n",
    "rfr = RandomizedSearchCV(rfr, param_grid, random_state=RANDOM_STATE, n_iter=N_ITER, cv=N_CV, n_jobs=N_JOBS)\n",
    "\n",
    "# search for the optimal model's hyperparameters\n",
    "search = rfr.fit(x_train, y_train)"
   ]
  },
  {
   "cell_type": "code",
   "execution_count": 129,
   "id": "6b076f15",
   "metadata": {},
   "outputs": [
    {
     "data": {
      "text/plain": [
       "{'n_estimators': 200, 'max_features': 'sqrt', 'bootstrap': False}"
      ]
     },
     "execution_count": 129,
     "metadata": {},
     "output_type": "execute_result"
    }
   ],
   "source": [
    "# optimal model's hyperparameters\n",
    "search.best_params_"
   ]
  },
  {
   "cell_type": "code",
   "execution_count": 130,
   "id": "fce2d88f",
   "metadata": {},
   "outputs": [],
   "source": [
    "assert search.best_score_ == search.cv_results_[\"mean_test_score\"][search.best_index_]"
   ]
  },
  {
   "cell_type": "code",
   "execution_count": 132,
   "id": "112e2e29",
   "metadata": {
    "collapsed": false,
    "pycharm": {
     "is_executing": true,
     "name": "#%%\n"
    }
   },
   "outputs": [
    {
     "data": {
      "text/html": [
       "<style>#sk-container-id-2 {color: black;background-color: white;}#sk-container-id-2 pre{padding: 0;}#sk-container-id-2 div.sk-toggleable {background-color: white;}#sk-container-id-2 label.sk-toggleable__label {cursor: pointer;display: block;width: 100%;margin-bottom: 0;padding: 0.3em;box-sizing: border-box;text-align: center;}#sk-container-id-2 label.sk-toggleable__label-arrow:before {content: \"▸\";float: left;margin-right: 0.25em;color: #696969;}#sk-container-id-2 label.sk-toggleable__label-arrow:hover:before {color: black;}#sk-container-id-2 div.sk-estimator:hover label.sk-toggleable__label-arrow:before {color: black;}#sk-container-id-2 div.sk-toggleable__content {max-height: 0;max-width: 0;overflow: hidden;text-align: left;background-color: #f0f8ff;}#sk-container-id-2 div.sk-toggleable__content pre {margin: 0.2em;color: black;border-radius: 0.25em;background-color: #f0f8ff;}#sk-container-id-2 input.sk-toggleable__control:checked~div.sk-toggleable__content {max-height: 200px;max-width: 100%;overflow: auto;}#sk-container-id-2 input.sk-toggleable__control:checked~label.sk-toggleable__label-arrow:before {content: \"▾\";}#sk-container-id-2 div.sk-estimator input.sk-toggleable__control:checked~label.sk-toggleable__label {background-color: #d4ebff;}#sk-container-id-2 div.sk-label input.sk-toggleable__control:checked~label.sk-toggleable__label {background-color: #d4ebff;}#sk-container-id-2 input.sk-hidden--visually {border: 0;clip: rect(1px 1px 1px 1px);clip: rect(1px, 1px, 1px, 1px);height: 1px;margin: -1px;overflow: hidden;padding: 0;position: absolute;width: 1px;}#sk-container-id-2 div.sk-estimator {font-family: monospace;background-color: #f0f8ff;border: 1px dotted black;border-radius: 0.25em;box-sizing: border-box;margin-bottom: 0.5em;}#sk-container-id-2 div.sk-estimator:hover {background-color: #d4ebff;}#sk-container-id-2 div.sk-parallel-item::after {content: \"\";width: 100%;border-bottom: 1px solid gray;flex-grow: 1;}#sk-container-id-2 div.sk-label:hover label.sk-toggleable__label {background-color: #d4ebff;}#sk-container-id-2 div.sk-serial::before {content: \"\";position: absolute;border-left: 1px solid gray;box-sizing: border-box;top: 0;bottom: 0;left: 50%;z-index: 0;}#sk-container-id-2 div.sk-serial {display: flex;flex-direction: column;align-items: center;background-color: white;padding-right: 0.2em;padding-left: 0.2em;position: relative;}#sk-container-id-2 div.sk-item {position: relative;z-index: 1;}#sk-container-id-2 div.sk-parallel {display: flex;align-items: stretch;justify-content: center;background-color: white;position: relative;}#sk-container-id-2 div.sk-item::before, #sk-container-id-2 div.sk-parallel-item::before {content: \"\";position: absolute;border-left: 1px solid gray;box-sizing: border-box;top: 0;bottom: 0;left: 50%;z-index: -1;}#sk-container-id-2 div.sk-parallel-item {display: flex;flex-direction: column;z-index: 1;position: relative;background-color: white;}#sk-container-id-2 div.sk-parallel-item:first-child::after {align-self: flex-end;width: 50%;}#sk-container-id-2 div.sk-parallel-item:last-child::after {align-self: flex-start;width: 50%;}#sk-container-id-2 div.sk-parallel-item:only-child::after {width: 0;}#sk-container-id-2 div.sk-dashed-wrapped {border: 1px dashed gray;margin: 0 0.4em 0.5em 0.4em;box-sizing: border-box;padding-bottom: 0.4em;background-color: white;}#sk-container-id-2 div.sk-label label {font-family: monospace;font-weight: bold;display: inline-block;line-height: 1.2em;}#sk-container-id-2 div.sk-label-container {text-align: center;}#sk-container-id-2 div.sk-container {/* jupyter's `normalize.less` sets `[hidden] { display: none; }` but bootstrap.min.css set `[hidden] { display: none !important; }` so we also need the `!important` here to be able to override the default hidden behavior on the sphinx rendered scikit-learn.org. See: https://github.com/scikit-learn/scikit-learn/issues/21755 */display: inline-block !important;position: relative;}#sk-container-id-2 div.sk-text-repr-fallback {display: none;}</style><div id=\"sk-container-id-2\" class=\"sk-top-container\"><div class=\"sk-text-repr-fallback\"><pre>RandomForestRegressor(bootstrap=False, max_features=&#x27;sqrt&#x27;, n_estimators=200,\n",
       "                      random_state=42)</pre><b>In a Jupyter environment, please rerun this cell to show the HTML representation or trust the notebook. <br />On GitHub, the HTML representation is unable to render, please try loading this page with nbviewer.org.</b></div><div class=\"sk-container\" hidden><div class=\"sk-item\"><div class=\"sk-estimator sk-toggleable\"><input class=\"sk-toggleable__control sk-hidden--visually\" id=\"sk-estimator-id-2\" type=\"checkbox\" checked><label for=\"sk-estimator-id-2\" class=\"sk-toggleable__label sk-toggleable__label-arrow\">RandomForestRegressor</label><div class=\"sk-toggleable__content\"><pre>RandomForestRegressor(bootstrap=False, max_features=&#x27;sqrt&#x27;, n_estimators=200,\n",
       "                      random_state=42)</pre></div></div></div></div></div>"
      ],
      "text/plain": [
       "RandomForestRegressor(bootstrap=False, max_features='sqrt', n_estimators=200,\n",
       "                      random_state=42)"
      ]
     },
     "execution_count": 132,
     "metadata": {},
     "output_type": "execute_result"
    }
   ],
   "source": [
    "# initialize Random Forest with the optimal hyperparameters\n",
    "rfr = RandomForestRegressor(\n",
    "    random_state=RANDOM_STATE, \n",
    "    **search.best_params_\n",
    ")\n",
    "\n",
    "# train it\n",
    "rfr.fit(x_train, y_train)"
   ]
  },
  {
   "cell_type": "code",
   "execution_count": 133,
   "metadata": {
    "collapsed": false,
    "pycharm": {
     "is_executing": true,
     "name": "#%%\n"
    }
   },
   "outputs": [
    {
     "name": "stdout",
     "output_type": "stream",
     "text": [
      "R^2 :  0.6906763703409575\n",
      "MAE : 0.28956663842862546\n",
      "RMSE: 0.3986321105808832\n"
     ]
    }
   ],
   "source": [
    "y_pred = rfr.predict(x_test)\n",
    "print(\"R^2 : \", r2_score(y_test, y_pred))\n",
    "print(\"MAE :\", mean_absolute_error(y_test, y_pred))\n",
    "print(\"RMSE:\",np.sqrt(mean_squared_error(y_test, y_pred)))"
   ]
  },
  {
   "cell_type": "code",
   "execution_count": null,
   "id": "9b22198a",
   "metadata": {},
   "outputs": [],
   "source": [
    "pd.DataFrame(y_pred, columns=['predicted_price']).to_csv(os.path.join(DATA_PATH, \"predicted_price.csv\"), index=False)"
   ]
  },
  {
   "cell_type": "markdown",
   "id": "647932f1",
   "metadata": {
    "pycharm": {
     "name": "#%% md\n"
    }
   },
   "source": [
    "# Metrics"
   ]
  },
  {
   "cell_type": "code",
   "execution_count": null,
   "id": "9bbadfaf",
   "metadata": {
    "pycharm": {
     "is_executing": true,
     "name": "#%%\n"
    }
   },
   "outputs": [],
   "source": [
    "# code for metrics"
   ]
  },
  {
   "cell_type": "markdown",
   "id": "2d80b3d6",
   "metadata": {
    "pycharm": {
     "name": "#%% md\n"
    }
   },
   "source": [
    "## Test"
   ]
  },
  {
   "cell_type": "markdown",
   "id": "251a0979",
   "metadata": {
    "pycharm": {
     "name": "#%% md\n"
    }
   },
   "source": [
    "### Accuracy, Precision, Recall, ROC AUC, Precision Recall AUC"
   ]
  },
  {
   "cell_type": "code",
   "execution_count": null,
   "id": "23170fd1",
   "metadata": {
    "pycharm": {
     "is_executing": true,
     "name": "#%%\n"
    }
   },
   "outputs": [],
   "source": [
    "# code"
   ]
  },
  {
   "cell_type": "markdown",
   "id": "4329e8b5",
   "metadata": {
    "pycharm": {
     "name": "#%% md\n"
    }
   },
   "source": [
    "### Precision Recall Curve, AUC"
   ]
  },
  {
   "cell_type": "code",
   "execution_count": null,
   "id": "e1d310cf",
   "metadata": {
    "pycharm": {
     "is_executing": true,
     "name": "#%%\n"
    }
   },
   "outputs": [],
   "source": [
    "# code "
   ]
  },
  {
   "cell_type": "markdown",
   "id": "83d3da9f",
   "metadata": {
    "pycharm": {
     "name": "#%% md\n"
    }
   },
   "source": [
    "### ROC Curve, ROC AUC"
   ]
  },
  {
   "cell_type": "code",
   "execution_count": null,
   "id": "f2e44aa9",
   "metadata": {
    "pycharm": {
     "is_executing": true,
     "name": "#%%\n"
    }
   },
   "outputs": [],
   "source": [
    "# code"
   ]
  },
  {
   "cell_type": "markdown",
   "id": "86a9bad8",
   "metadata": {
    "ExecuteTime": {
     "end_time": "2022-06-26T20:59:27.272640Z",
     "start_time": "2022-06-26T20:59:27.258641Z"
    },
    "pycharm": {
     "name": "#%% md\n"
    }
   },
   "source": [
    "## Inference"
   ]
  },
  {
   "cell_type": "markdown",
   "id": "4db35b7c",
   "metadata": {
    "pycharm": {
     "name": "#%% md\n"
    }
   },
   "source": [
    "Compute metrics on the inference data"
   ]
  },
  {
   "cell_type": "markdown",
   "id": "14edb80c",
   "metadata": {
    "pycharm": {
     "name": "#%% md\n"
    }
   },
   "source": [
    "### Accuracy, Precision, Recall, Precision Recall AUC, ROC AUC"
   ]
  },
  {
   "cell_type": "markdown",
   "id": "69b3feb8",
   "metadata": {
    "pycharm": {
     "name": "#%% md\n"
    }
   },
   "source": [
    "### Precision Recall Curve, AUC"
   ]
  },
  {
   "cell_type": "markdown",
   "id": "1b1689fc",
   "metadata": {
    "pycharm": {
     "name": "#%% md\n"
    }
   },
   "source": [
    "### ROC Curve, ROC AUC"
   ]
  },
  {
   "cell_type": "code",
   "execution_count": null,
   "id": "ba4c7d53",
   "metadata": {
    "pycharm": {
     "is_executing": true,
     "name": "#%%\n"
    }
   },
   "outputs": [],
   "source": [
    "# code"
   ]
  },
  {
   "cell_type": "markdown",
   "id": "7f977ec8",
   "metadata": {
    "pycharm": {
     "name": "#%% md\n"
    }
   },
   "source": [
    "# Population Stability Index (PSI)"
   ]
  },
  {
   "cell_type": "markdown",
   "id": "a9b30851",
   "metadata": {
    "ExecuteTime": {
     "end_time": "2022-06-27T21:23:11.328099Z",
     "start_time": "2022-06-27T21:23:11.313066Z"
    },
    "pycharm": {
     "name": "#%% md\n"
    }
   },
   "source": [
    "**The population stability index (PSI)** is a statistic that measures how much a variable has shifted over time, and is used to monitor applicability of a statistical model to the current population.\n",
    "Details by the [link](https://scholarworks.wmich.edu/cgi/viewcontent.cgi?article=4249&context=dissertations#:~:text=The%20population%20stability%20index%20(PSI,model%20to%20the%20current%20population.)\n"
   ]
  },
  {
   "cell_type": "code",
   "execution_count": null,
   "id": "4d9b45d4",
   "metadata": {
    "pycharm": {
     "is_executing": true,
     "name": "#%%\n"
    }
   },
   "outputs": [],
   "source": [
    "# code for psi"
   ]
  }
 ],
 "metadata": {
  "kernelspec": {
   "display_name": "Python 3 (ipykernel)",
   "language": "python",
   "name": "python3"
  },
  "language_info": {
   "codemirror_mode": {
    "name": "ipython",
    "version": 3
   },
   "file_extension": ".py",
   "mimetype": "text/x-python",
   "name": "python",
   "nbconvert_exporter": "python",
   "pygments_lexer": "ipython3",
   "version": "3.10.2"
  },
  "toc": {
   "base_numbering": 1,
   "nav_menu": {},
   "number_sections": true,
   "sideBar": true,
   "skip_h1_title": false,
   "title_cell": "Table of Contents",
   "title_sidebar": "Contents",
   "toc_cell": false,
   "toc_position": {},
   "toc_section_display": true,
   "toc_window_display": false
  },
  "varInspector": {
   "cols": {
    "lenName": 16,
    "lenType": 16,
    "lenVar": 40
   },
   "kernels_config": {
    "python": {
     "delete_cmd_postfix": "",
     "delete_cmd_prefix": "del ",
     "library": "var_list.py",
     "varRefreshCmd": "print(var_dic_list())"
    },
    "r": {
     "delete_cmd_postfix": ") ",
     "delete_cmd_prefix": "rm(",
     "library": "var_list.r",
     "varRefreshCmd": "cat(var_dic_list()) "
    }
   },
   "oldHeight": 122.844,
   "position": {
    "height": "40px",
    "left": "1544px",
    "right": "20px",
    "top": "99px",
    "width": "350px"
   },
   "types_to_exclude": [
    "module",
    "function",
    "builtin_function_or_method",
    "instance",
    "_Feature"
   ],
   "varInspector_section_display": "none",
   "window_display": true
  },
  "vscode": {
   "interpreter": {
    "hash": "a62875d3cd9a92796cb8eb12f2bf7baf9b27bcdb0e0bfda6d8edbc998b87b34b"
   }
  }
 },
 "nbformat": 4,
 "nbformat_minor": 5
}
