{
 "cells": [
  {
   "cell_type": "code",
   "execution_count": 2,
   "id": "f1b749bb",
   "metadata": {
    "ExecuteTime": {
     "end_time": "2022-06-27T21:23:09.762355Z",
     "start_time": "2022-06-27T21:23:07.654355Z"
    },
    "pycharm": {
     "name": "#%%\n"
    }
   },
   "outputs": [],
   "source": [
    "import os\n",
    "import sys\n",
    "\n",
    "import numpy as np\n",
    "import pandas as pd\n",
    "\n",
    "from sklearn.ensemble import RandomForestClassifier\n",
    "from sklearn.model_selection import RandomizedSearchCV, StratifiedKFold, train_test_split\n",
    "from sklearn.metrics import accuracy_score, precision_score, recall_score, roc_curve, roc_auc_score, auc, precision_recall_curve\n",
    "\n",
    "from scipy.stats import randint\n",
    "\n",
    "import seaborn as sns\n",
    "import matplotlib.pyplot as plt"
   ]
  },
  {
   "cell_type": "markdown",
   "id": "80b0e4c1",
   "metadata": {
    "pycharm": {
     "name": "#%% md\n"
    }
   },
   "source": [
    "# Constants"
   ]
  },
  {
   "cell_type": "code",
   "execution_count": 3,
   "id": "b4b559ad",
   "metadata": {
    "ExecuteTime": {
     "end_time": "2022-06-27T21:23:09.778355Z",
     "start_time": "2022-06-27T21:23:09.763355Z"
    },
    "pycharm": {
     "name": "#%%\n"
    }
   },
   "outputs": [],
   "source": [
    "RANDOM_STATE = 42 # to get the same random values with different .ipynb sessions\n",
    "N_ITER = 5 # number of iterations while searching hyperparameters of the model\n",
    "N_CV = 5 # number of folds in crossvalidation"
   ]
  },
  {
   "cell_type": "code",
   "execution_count": 4,
   "id": "a0155873",
   "metadata": {
    "ExecuteTime": {
     "end_time": "2022-06-27T21:23:09.794355Z",
     "start_time": "2022-06-27T21:23:09.780356Z"
    },
    "pycharm": {
     "name": "#%%\n"
    }
   },
   "outputs": [],
   "source": [
    "PROJECT_PATH = os.getcwd() # get current working directory\n",
    "PROJECT_PATH = os.path.join(PROJECT_PATH, \"..\") # go to higher folder \n",
    "\n",
    "DATA_PATH = os.path.join(PROJECT_PATH, \"data\") # define path to the data"
   ]
  },
  {
   "cell_type": "code",
   "execution_count": 5,
   "id": "50c872ff",
   "metadata": {
    "ExecuteTime": {
     "end_time": "2022-06-27T21:23:09.809355Z",
     "start_time": "2022-06-27T21:23:09.796357Z"
    },
    "pycharm": {
     "name": "#%%\n"
    }
   },
   "outputs": [],
   "source": [
    "sys.path.append(PROJECT_PATH) # add higher direcotory to load self-written metrics\n",
    "from tools.metrics import * "
   ]
  },
  {
   "cell_type": "markdown",
   "id": "9185231f",
   "metadata": {
    "pycharm": {
     "name": "#%% md\n"
    }
   },
   "source": [
    "# Read Data"
   ]
  },
  {
   "cell_type": "code",
   "execution_count": 6,
   "id": "e4a7b327",
   "metadata": {
    "ExecuteTime": {
     "end_time": "2022-06-27T21:23:09.840355Z",
     "start_time": "2022-06-27T21:23:09.826357Z"
    },
    "pycharm": {
     "name": "#%%\n"
    }
   },
   "outputs": [],
   "source": [
    "df = pd.read_csv(os.path.join(DATA_PATH, \"train.csv\"), encoding=\"cp1252\",)\n",
    "df.drop(columns=['id'], inplace=True)"
   ]
  },
  {
   "cell_type": "code",
   "execution_count": 7,
   "id": "3f293536",
   "metadata": {
    "ExecuteTime": {
     "end_time": "2022-06-27T21:23:09.872359Z",
     "start_time": "2022-06-27T21:23:09.841359Z"
    },
    "pycharm": {
     "name": "#%%\n"
    }
   },
   "outputs": [
    {
     "data": {
      "text/plain": "   accommodates  bathrooms  bedrooms  beds  cleaning_fee  host_response_rate  \\\n0             3        1.0       1.0   1.0             1                   0   \n1             7        1.0       3.0   3.0             1                 100   \n2             5        1.0       1.0   3.0             1                 100   \n3             4        1.0       2.0   2.0             1                   0   \n4             2        1.0       0.0   1.0             1                 100   \n\n    latitude  log_price   longitude  number_of_reviews  ...  Waterfront  \\\n0  40.696524   5.010635  -73.991617                  2  ...           0   \n1  40.766115   5.129899  -73.989040                  6  ...           0   \n2  40.808110   4.976734  -73.943756                 10  ...           0   \n3  37.772004   6.620073 -122.431619                  0  ...           0   \n4  38.925627   4.744932  -77.034596                  4  ...           0   \n\n   first_review_Year  first_review_Month  first_review_Day  last_review_Year  \\\n0             2016.0                 6.0              18.0            2016.0   \n1             2017.0                 8.0               5.0            2017.0   \n2             2017.0                 4.0              30.0            2017.0   \n3                0.0                 0.0               0.0               0.0   \n4             2015.0                 5.0              12.0            2017.0   \n\n   last_review_Month  last_review_Day  host_since_Year  host_since_Month  \\\n0                7.0             18.0           2012.0               3.0   \n1                9.0             23.0           2017.0               6.0   \n2                9.0             14.0           2016.0              10.0   \n3                0.0              0.0           2015.0               4.0   \n4                1.0             22.0           2015.0               3.0   \n\n   host_since_Day  \n0            26.0  \n1            19.0  \n2            25.0  \n3            19.0  \n4             1.0  \n\n[5 rows x 212 columns]",
      "text/html": "<div>\n<style scoped>\n    .dataframe tbody tr th:only-of-type {\n        vertical-align: middle;\n    }\n\n    .dataframe tbody tr th {\n        vertical-align: top;\n    }\n\n    .dataframe thead th {\n        text-align: right;\n    }\n</style>\n<table border=\"1\" class=\"dataframe\">\n  <thead>\n    <tr style=\"text-align: right;\">\n      <th></th>\n      <th>accommodates</th>\n      <th>bathrooms</th>\n      <th>bedrooms</th>\n      <th>beds</th>\n      <th>cleaning_fee</th>\n      <th>host_response_rate</th>\n      <th>latitude</th>\n      <th>log_price</th>\n      <th>longitude</th>\n      <th>number_of_reviews</th>\n      <th>...</th>\n      <th>Waterfront</th>\n      <th>first_review_Year</th>\n      <th>first_review_Month</th>\n      <th>first_review_Day</th>\n      <th>last_review_Year</th>\n      <th>last_review_Month</th>\n      <th>last_review_Day</th>\n      <th>host_since_Year</th>\n      <th>host_since_Month</th>\n      <th>host_since_Day</th>\n    </tr>\n  </thead>\n  <tbody>\n    <tr>\n      <th>0</th>\n      <td>3</td>\n      <td>1.0</td>\n      <td>1.0</td>\n      <td>1.0</td>\n      <td>1</td>\n      <td>0</td>\n      <td>40.696524</td>\n      <td>5.010635</td>\n      <td>-73.991617</td>\n      <td>2</td>\n      <td>...</td>\n      <td>0</td>\n      <td>2016.0</td>\n      <td>6.0</td>\n      <td>18.0</td>\n      <td>2016.0</td>\n      <td>7.0</td>\n      <td>18.0</td>\n      <td>2012.0</td>\n      <td>3.0</td>\n      <td>26.0</td>\n    </tr>\n    <tr>\n      <th>1</th>\n      <td>7</td>\n      <td>1.0</td>\n      <td>3.0</td>\n      <td>3.0</td>\n      <td>1</td>\n      <td>100</td>\n      <td>40.766115</td>\n      <td>5.129899</td>\n      <td>-73.989040</td>\n      <td>6</td>\n      <td>...</td>\n      <td>0</td>\n      <td>2017.0</td>\n      <td>8.0</td>\n      <td>5.0</td>\n      <td>2017.0</td>\n      <td>9.0</td>\n      <td>23.0</td>\n      <td>2017.0</td>\n      <td>6.0</td>\n      <td>19.0</td>\n    </tr>\n    <tr>\n      <th>2</th>\n      <td>5</td>\n      <td>1.0</td>\n      <td>1.0</td>\n      <td>3.0</td>\n      <td>1</td>\n      <td>100</td>\n      <td>40.808110</td>\n      <td>4.976734</td>\n      <td>-73.943756</td>\n      <td>10</td>\n      <td>...</td>\n      <td>0</td>\n      <td>2017.0</td>\n      <td>4.0</td>\n      <td>30.0</td>\n      <td>2017.0</td>\n      <td>9.0</td>\n      <td>14.0</td>\n      <td>2016.0</td>\n      <td>10.0</td>\n      <td>25.0</td>\n    </tr>\n    <tr>\n      <th>3</th>\n      <td>4</td>\n      <td>1.0</td>\n      <td>2.0</td>\n      <td>2.0</td>\n      <td>1</td>\n      <td>0</td>\n      <td>37.772004</td>\n      <td>6.620073</td>\n      <td>-122.431619</td>\n      <td>0</td>\n      <td>...</td>\n      <td>0</td>\n      <td>0.0</td>\n      <td>0.0</td>\n      <td>0.0</td>\n      <td>0.0</td>\n      <td>0.0</td>\n      <td>0.0</td>\n      <td>2015.0</td>\n      <td>4.0</td>\n      <td>19.0</td>\n    </tr>\n    <tr>\n      <th>4</th>\n      <td>2</td>\n      <td>1.0</td>\n      <td>0.0</td>\n      <td>1.0</td>\n      <td>1</td>\n      <td>100</td>\n      <td>38.925627</td>\n      <td>4.744932</td>\n      <td>-77.034596</td>\n      <td>4</td>\n      <td>...</td>\n      <td>0</td>\n      <td>2015.0</td>\n      <td>5.0</td>\n      <td>12.0</td>\n      <td>2017.0</td>\n      <td>1.0</td>\n      <td>22.0</td>\n      <td>2015.0</td>\n      <td>3.0</td>\n      <td>1.0</td>\n    </tr>\n  </tbody>\n</table>\n<p>5 rows × 212 columns</p>\n</div>"
     },
     "execution_count": 7,
     "metadata": {},
     "output_type": "execute_result"
    }
   ],
   "source": [
    "df.head()"
   ]
  },
  {
   "cell_type": "code",
   "execution_count": 8,
   "id": "5893fd01",
   "metadata": {
    "pycharm": {
     "name": "#%%\n"
    }
   },
   "outputs": [
    {
     "data": {
      "text/plain": "       accommodates     bathrooms      bedrooms          beds  cleaning_fee  \\\ncount  74111.000000  74111.000000  74111.000000  74111.000000  74111.000000   \nmean       3.155146      1.231929      1.264239      1.707844      0.734075   \nstd        2.153589      0.584780      0.852773      1.255092      0.441828   \nmin        1.000000      0.000000      0.000000      0.000000      0.000000   \n25%        2.000000      1.000000      1.000000      1.000000      0.000000   \n50%        2.000000      1.000000      1.000000      1.000000      1.000000   \n75%        4.000000      1.000000      1.000000      2.000000      1.000000   \nmax       16.000000      8.000000     10.000000     18.000000      1.000000   \n\n       host_response_rate      latitude     log_price     longitude  \\\ncount        74111.000000  74111.000000  74111.000000  74111.000000   \nmean            71.055201     38.445958      4.782069    -92.397525   \nstd             43.087044      3.080167      0.717394     21.705322   \nmin              0.000000     33.338905      0.000000   -122.511500   \n25%              0.000000     34.127908      4.317488   -118.342374   \n50%            100.000000     40.662138      4.709530    -76.996965   \n75%            100.000000     40.746096      5.220356    -73.954660   \nmax            100.000000     42.390437      7.600402    -70.985047   \n\n       number_of_reviews  ...    Waterfront  first_review_Year  \\\ncount       74111.000000  ...  74111.000000       74111.000000   \nmean           20.900568  ...      0.001552        1584.095438   \nstd            37.828641  ...      0.039362         826.712164   \nmin             0.000000  ...      0.000000           0.000000   \n25%             1.000000  ...      0.000000        2013.000000   \n50%             6.000000  ...      0.000000        2015.000000   \n75%            23.000000  ...      0.000000        2016.000000   \nmax           605.000000  ...      1.000000        2017.000000   \n\n       first_review_Month  first_review_Day  last_review_Year  \\\ncount        74111.000000      74111.000000      74111.000000   \nmean             5.146469         12.129603       1586.010133   \nstd              3.898664         10.152619        826.482416   \nmin              0.000000          0.000000          0.000000   \n25%              1.000000          2.000000       2015.000000   \n50%              5.000000         11.000000       2017.000000   \n75%              8.000000         21.000000       2017.000000   \nmax             12.000000         31.000000       2017.000000   \n\n       last_review_Month  last_review_Day  host_since_Year  host_since_Month  \\\ncount       74111.000000     74111.000000     74111.000000      74111.000000   \nmean            5.204814        13.178948      2008.941992          6.524268   \nstd             3.707618        10.650738       101.328302          3.334992   \nmin             0.000000         0.000000         0.000000          0.000000   \n25%             1.000000         1.000000      2013.000000          4.000000   \n50%             5.000000        14.000000      2014.000000          7.000000   \n75%             9.000000        23.000000      2015.000000          9.000000   \nmax            12.000000        31.000000      2017.000000         12.000000   \n\n       host_since_Day  \ncount    74111.000000  \nmean        15.595957  \nstd          8.809573  \nmin          0.000000  \n25%          8.000000  \n50%         16.000000  \n75%         23.000000  \nmax         31.000000  \n\n[8 rows x 212 columns]",
      "text/html": "<div>\n<style scoped>\n    .dataframe tbody tr th:only-of-type {\n        vertical-align: middle;\n    }\n\n    .dataframe tbody tr th {\n        vertical-align: top;\n    }\n\n    .dataframe thead th {\n        text-align: right;\n    }\n</style>\n<table border=\"1\" class=\"dataframe\">\n  <thead>\n    <tr style=\"text-align: right;\">\n      <th></th>\n      <th>accommodates</th>\n      <th>bathrooms</th>\n      <th>bedrooms</th>\n      <th>beds</th>\n      <th>cleaning_fee</th>\n      <th>host_response_rate</th>\n      <th>latitude</th>\n      <th>log_price</th>\n      <th>longitude</th>\n      <th>number_of_reviews</th>\n      <th>...</th>\n      <th>Waterfront</th>\n      <th>first_review_Year</th>\n      <th>first_review_Month</th>\n      <th>first_review_Day</th>\n      <th>last_review_Year</th>\n      <th>last_review_Month</th>\n      <th>last_review_Day</th>\n      <th>host_since_Year</th>\n      <th>host_since_Month</th>\n      <th>host_since_Day</th>\n    </tr>\n  </thead>\n  <tbody>\n    <tr>\n      <th>count</th>\n      <td>74111.000000</td>\n      <td>74111.000000</td>\n      <td>74111.000000</td>\n      <td>74111.000000</td>\n      <td>74111.000000</td>\n      <td>74111.000000</td>\n      <td>74111.000000</td>\n      <td>74111.000000</td>\n      <td>74111.000000</td>\n      <td>74111.000000</td>\n      <td>...</td>\n      <td>74111.000000</td>\n      <td>74111.000000</td>\n      <td>74111.000000</td>\n      <td>74111.000000</td>\n      <td>74111.000000</td>\n      <td>74111.000000</td>\n      <td>74111.000000</td>\n      <td>74111.000000</td>\n      <td>74111.000000</td>\n      <td>74111.000000</td>\n    </tr>\n    <tr>\n      <th>mean</th>\n      <td>3.155146</td>\n      <td>1.231929</td>\n      <td>1.264239</td>\n      <td>1.707844</td>\n      <td>0.734075</td>\n      <td>71.055201</td>\n      <td>38.445958</td>\n      <td>4.782069</td>\n      <td>-92.397525</td>\n      <td>20.900568</td>\n      <td>...</td>\n      <td>0.001552</td>\n      <td>1584.095438</td>\n      <td>5.146469</td>\n      <td>12.129603</td>\n      <td>1586.010133</td>\n      <td>5.204814</td>\n      <td>13.178948</td>\n      <td>2008.941992</td>\n      <td>6.524268</td>\n      <td>15.595957</td>\n    </tr>\n    <tr>\n      <th>std</th>\n      <td>2.153589</td>\n      <td>0.584780</td>\n      <td>0.852773</td>\n      <td>1.255092</td>\n      <td>0.441828</td>\n      <td>43.087044</td>\n      <td>3.080167</td>\n      <td>0.717394</td>\n      <td>21.705322</td>\n      <td>37.828641</td>\n      <td>...</td>\n      <td>0.039362</td>\n      <td>826.712164</td>\n      <td>3.898664</td>\n      <td>10.152619</td>\n      <td>826.482416</td>\n      <td>3.707618</td>\n      <td>10.650738</td>\n      <td>101.328302</td>\n      <td>3.334992</td>\n      <td>8.809573</td>\n    </tr>\n    <tr>\n      <th>min</th>\n      <td>1.000000</td>\n      <td>0.000000</td>\n      <td>0.000000</td>\n      <td>0.000000</td>\n      <td>0.000000</td>\n      <td>0.000000</td>\n      <td>33.338905</td>\n      <td>0.000000</td>\n      <td>-122.511500</td>\n      <td>0.000000</td>\n      <td>...</td>\n      <td>0.000000</td>\n      <td>0.000000</td>\n      <td>0.000000</td>\n      <td>0.000000</td>\n      <td>0.000000</td>\n      <td>0.000000</td>\n      <td>0.000000</td>\n      <td>0.000000</td>\n      <td>0.000000</td>\n      <td>0.000000</td>\n    </tr>\n    <tr>\n      <th>25%</th>\n      <td>2.000000</td>\n      <td>1.000000</td>\n      <td>1.000000</td>\n      <td>1.000000</td>\n      <td>0.000000</td>\n      <td>0.000000</td>\n      <td>34.127908</td>\n      <td>4.317488</td>\n      <td>-118.342374</td>\n      <td>1.000000</td>\n      <td>...</td>\n      <td>0.000000</td>\n      <td>2013.000000</td>\n      <td>1.000000</td>\n      <td>2.000000</td>\n      <td>2015.000000</td>\n      <td>1.000000</td>\n      <td>1.000000</td>\n      <td>2013.000000</td>\n      <td>4.000000</td>\n      <td>8.000000</td>\n    </tr>\n    <tr>\n      <th>50%</th>\n      <td>2.000000</td>\n      <td>1.000000</td>\n      <td>1.000000</td>\n      <td>1.000000</td>\n      <td>1.000000</td>\n      <td>100.000000</td>\n      <td>40.662138</td>\n      <td>4.709530</td>\n      <td>-76.996965</td>\n      <td>6.000000</td>\n      <td>...</td>\n      <td>0.000000</td>\n      <td>2015.000000</td>\n      <td>5.000000</td>\n      <td>11.000000</td>\n      <td>2017.000000</td>\n      <td>5.000000</td>\n      <td>14.000000</td>\n      <td>2014.000000</td>\n      <td>7.000000</td>\n      <td>16.000000</td>\n    </tr>\n    <tr>\n      <th>75%</th>\n      <td>4.000000</td>\n      <td>1.000000</td>\n      <td>1.000000</td>\n      <td>2.000000</td>\n      <td>1.000000</td>\n      <td>100.000000</td>\n      <td>40.746096</td>\n      <td>5.220356</td>\n      <td>-73.954660</td>\n      <td>23.000000</td>\n      <td>...</td>\n      <td>0.000000</td>\n      <td>2016.000000</td>\n      <td>8.000000</td>\n      <td>21.000000</td>\n      <td>2017.000000</td>\n      <td>9.000000</td>\n      <td>23.000000</td>\n      <td>2015.000000</td>\n      <td>9.000000</td>\n      <td>23.000000</td>\n    </tr>\n    <tr>\n      <th>max</th>\n      <td>16.000000</td>\n      <td>8.000000</td>\n      <td>10.000000</td>\n      <td>18.000000</td>\n      <td>1.000000</td>\n      <td>100.000000</td>\n      <td>42.390437</td>\n      <td>7.600402</td>\n      <td>-70.985047</td>\n      <td>605.000000</td>\n      <td>...</td>\n      <td>1.000000</td>\n      <td>2017.000000</td>\n      <td>12.000000</td>\n      <td>31.000000</td>\n      <td>2017.000000</td>\n      <td>12.000000</td>\n      <td>31.000000</td>\n      <td>2017.000000</td>\n      <td>12.000000</td>\n      <td>31.000000</td>\n    </tr>\n  </tbody>\n</table>\n<p>8 rows × 212 columns</p>\n</div>"
     },
     "execution_count": 8,
     "metadata": {},
     "output_type": "execute_result"
    }
   ],
   "source": [
    "df.describe()"
   ]
  },
  {
   "cell_type": "markdown",
   "id": "a447fe2d",
   "metadata": {
    "pycharm": {
     "name": "#%% md\n"
    }
   },
   "source": [
    "# Exploratory Data Analysis"
   ]
  },
  {
   "cell_type": "code",
   "execution_count": 9,
   "id": "4b317d0f",
   "metadata": {
    "ExecuteTime": {
     "end_time": "2022-06-27T21:23:09.903356Z",
     "start_time": "2022-06-27T21:23:09.889357Z"
    },
    "pycharm": {
     "name": "#%%\n"
    }
   },
   "outputs": [],
   "source": [
    "# define list of columns to train model\n",
    "COLS_TO_TRAIN = []"
   ]
  },
  {
   "cell_type": "markdown",
   "id": "74e0f1fd",
   "metadata": {
    "pycharm": {
     "name": "#%% md\n"
    }
   },
   "source": [
    "# Descriptive statistics"
   ]
  },
  {
   "cell_type": "code",
   "execution_count": 10,
   "id": "bc018c08",
   "metadata": {
    "pycharm": {
     "name": "#%%\n"
    }
   },
   "outputs": [],
   "source": [
    "# code for feature selection"
   ]
  },
  {
   "cell_type": "markdown",
   "id": "568db54d",
   "metadata": {
    "pycharm": {
     "name": "#%% md\n"
    }
   },
   "source": [
    "# Generate train, test, inference"
   ]
  },
  {
   "cell_type": "markdown",
   "id": "87b865a1",
   "metadata": {
    "pycharm": {
     "name": "#%% md\n"
    }
   },
   "source": [
    "Data is split into 3 parts: \n",
    "\n",
    "    - train - 80% of observations\n",
    "    \n",
    "    - test - 14% of observations\n",
    "    \n",
    "    - inference - 6% of observations\n",
    "    \n",
    "Train will be used to train a model.\n",
    "\n",
    "Test - to evaluate its performance.\n",
    "\n",
    "Inference - to compare how model performs on 'recently' received datam"
   ]
  },
  {
   "cell_type": "code",
   "execution_count": 11,
   "id": "5a6cddb2",
   "metadata": {
    "ExecuteTime": {
     "end_time": "2022-06-27T21:23:10.602941Z",
     "start_time": "2022-06-27T21:23:10.587851Z"
    },
    "pycharm": {
     "name": "#%%\n"
    }
   },
   "outputs": [],
   "source": [
    "df_train, df_test = train_test_split(\n",
    "    df, train_size=0.8, random_state=RANDOM_STATE, shuffle=True\n",
    ")\n",
    "\n",
    "df_train_y = df_train['log_price']\n",
    "df_train_x = df_train.drop('log_price', axis=1)\n",
    "\n",
    "df_test_y = df_test['log_price']\n",
    "df_test_x = df_test.drop('log_price', axis=1)"
   ]
  },
  {
   "cell_type": "code",
   "execution_count": 12,
   "outputs": [
    {
     "name": "stdout",
     "output_type": "stream",
     "text": [
      "(59288, 211)\n",
      "(59288,)\n"
     ]
    }
   ],
   "source": [
    "print(df_train_x.shape)\n",
    "print(df_train_y.shape)"
   ],
   "metadata": {
    "collapsed": false,
    "pycharm": {
     "name": "#%%\n"
    }
   }
  },
  {
   "cell_type": "markdown",
   "id": "d450ccc7",
   "metadata": {
    "pycharm": {
     "name": "#%% md\n"
    }
   },
   "source": [
    "# Develop a model"
   ]
  },
  {
   "cell_type": "code",
   "execution_count": null,
   "id": "018777a3",
   "metadata": {
    "pycharm": {
     "name": "#%%\n",
     "is_executing": true
    }
   },
   "outputs": [],
   "source": [
    "from sklearn.ensemble import RandomForestRegressor\n",
    "\n",
    "rf = RandomForestRegressor(random_state = 3, n_estimators = 500)\n",
    "rf.fit(df_train_x, df_train_y)"
   ]
  },
  {
   "cell_type": "code",
   "execution_count": null,
   "outputs": [],
   "source": [
    "predictions = rf.predict(df_test_x.fillna(0))\n",
    "\n",
    "errors = abs(predictions - df_test_y)\n",
    "\n",
    "print('Mean Absolute Error:', round(np.mean(errors), 2), 'degrees.')"
   ],
   "metadata": {
    "collapsed": false,
    "pycharm": {
     "name": "#%%\n",
     "is_executing": true
    }
   }
  },
  {
   "cell_type": "code",
   "execution_count": null,
   "outputs": [],
   "source": [
    "mape = 100 * (errors / df_test_y)\n",
    "\n",
    "accuracy = 100 - np.mean(mape)\n",
    "print('Accuracy:', round(accuracy, 2), '%.')"
   ],
   "metadata": {
    "collapsed": false,
    "pycharm": {
     "name": "#%%\n",
     "is_executing": true
    }
   }
  },
  {
   "cell_type": "markdown",
   "id": "647932f1",
   "metadata": {
    "pycharm": {
     "name": "#%% md\n"
    }
   },
   "source": [
    "# Metrics"
   ]
  },
  {
   "cell_type": "markdown",
   "id": "576836a0",
   "metadata": {
    "pycharm": {
     "name": "#%% md\n"
    }
   },
   "source": [
    "**Accuracy** is a metric that generally describes how the model performs across all classes. More about accuracy metric: [link](https://en.wikipedia.org/wiki/Accuracy_and_precision)\n",
    "\n",
    "$$Accuracy = \\frac{correct\\ classifications}{all\\ classifications}$$\n",
    "\n"
   ]
  },
  {
   "cell_type": "markdown",
   "id": "b0c9a092",
   "metadata": {
    "ExecuteTime": {
     "end_time": "2022-06-27T22:07:19.947011Z",
     "start_time": "2022-06-27T22:07:19.938012Z"
    },
    "pycharm": {
     "name": "#%% md\n"
    }
   },
   "source": [
    "**Precision** attempts to answer the following question: What proportion of positive identifications was actually correct?\n",
    "$$Precision = \\frac{tp}{tp + fp}$$"
   ]
  },
  {
   "cell_type": "markdown",
   "id": "eef4c27b",
   "metadata": {
    "pycharm": {
     "name": "#%% md\n"
    }
   },
   "source": [
    "**Recall** attempts to answer the following question: What proportion of actual positives was identified correctly?\n",
    "\n",
    "$$Recall = \\frac{tp}{tp + fn}$$"
   ]
  },
  {
   "cell_type": "markdown",
   "id": "7a004728",
   "metadata": {
    "pycharm": {
     "name": "#%% md\n"
    }
   },
   "source": [
    "More about precision & recall metrics: [link](https://en.wikipedia.org/wiki/Precision_and_recall)"
   ]
  },
  {
   "cell_type": "markdown",
   "id": "773767ba",
   "metadata": {
    "pycharm": {
     "name": "#%% md\n"
    }
   },
   "source": [
    "**Receiver operating characteristic curve (ROC curve)**, is a graphical plot that illustrates the diagnostic ability of a binary classifier system as its discrimination threshold is varied. Additional details can be found: [link](https://en.wikipedia.org/wiki/Receiver_operating_characteristic)"
   ]
  },
  {
   "cell_type": "markdown",
   "id": "d0144410",
   "metadata": {
    "pycharm": {
     "name": "#%% md\n"
    }
   },
   "source": [
    "**ROC AUC** - the area under the ROC curve is equal to the probability that a classifier will rank a randomly chosen positive instance higher than a randomly chosen negative one (assuming 'positive' ranks higher than 'negative'). Details by [link](https://en.wikipedia.org/wiki/Receiver_operating_characteristic)"
   ]
  },
  {
   "cell_type": "markdown",
   "id": "a95baecb",
   "metadata": {
    "ExecuteTime": {
     "end_time": "2022-06-27T22:16:42.954775Z",
     "start_time": "2022-06-27T22:16:42.934775Z"
    },
    "pycharm": {
     "name": "#%% md\n"
    }
   },
   "source": [
    "The **precision-recall curve** shows the tradeoff between precision and recall for different threshold. More information by [link](https://scikit-learn.org/stable/auto_examples/model_selection/plot_precision_recall.html#:~:text=The%20precision%2Drecall%20curve%20shows,a%20low%20false%20negative%20rate.)"
   ]
  },
  {
   "cell_type": "markdown",
   "id": "9d849697",
   "metadata": {
    "ExecuteTime": {
     "end_time": "2022-06-27T22:19:38.879597Z",
     "start_time": "2022-06-27T22:19:38.866597Z"
    },
    "pycharm": {
     "name": "#%% md\n"
    }
   },
   "source": [
    "**Precision-Recall AUC** - area under the precision-recall curve. More details by [link](https://machinelearningmastery.com/roc-curves-and-precision-recall-curves-for-classification-in-python/)"
   ]
  },
  {
   "cell_type": "code",
   "execution_count": null,
   "id": "9bbadfaf",
   "metadata": {
    "pycharm": {
     "name": "#%%\n",
     "is_executing": true
    }
   },
   "outputs": [],
   "source": [
    "# code for metrics"
   ]
  },
  {
   "cell_type": "markdown",
   "id": "2d80b3d6",
   "metadata": {
    "pycharm": {
     "name": "#%% md\n"
    }
   },
   "source": [
    "## Test"
   ]
  },
  {
   "cell_type": "markdown",
   "id": "251a0979",
   "metadata": {
    "pycharm": {
     "name": "#%% md\n"
    }
   },
   "source": [
    "### Accuracy, Precision, Recall, ROC AUC, Precision Recall AUC"
   ]
  },
  {
   "cell_type": "code",
   "execution_count": null,
   "id": "23170fd1",
   "metadata": {
    "pycharm": {
     "name": "#%%\n",
     "is_executing": true
    }
   },
   "outputs": [],
   "source": [
    "# code"
   ]
  },
  {
   "cell_type": "markdown",
   "id": "4329e8b5",
   "metadata": {
    "pycharm": {
     "name": "#%% md\n"
    }
   },
   "source": [
    "### Precision Recall Curve, AUC"
   ]
  },
  {
   "cell_type": "code",
   "execution_count": null,
   "id": "e1d310cf",
   "metadata": {
    "pycharm": {
     "name": "#%%\n",
     "is_executing": true
    }
   },
   "outputs": [],
   "source": [
    "# code "
   ]
  },
  {
   "cell_type": "markdown",
   "id": "83d3da9f",
   "metadata": {
    "pycharm": {
     "name": "#%% md\n"
    }
   },
   "source": [
    "### ROC Curve, ROC AUC"
   ]
  },
  {
   "cell_type": "code",
   "execution_count": null,
   "id": "f2e44aa9",
   "metadata": {
    "pycharm": {
     "name": "#%%\n",
     "is_executing": true
    }
   },
   "outputs": [],
   "source": [
    "# code"
   ]
  },
  {
   "cell_type": "markdown",
   "id": "86a9bad8",
   "metadata": {
    "ExecuteTime": {
     "end_time": "2022-06-26T20:59:27.272640Z",
     "start_time": "2022-06-26T20:59:27.258641Z"
    },
    "pycharm": {
     "name": "#%% md\n"
    }
   },
   "source": [
    "## Inference"
   ]
  },
  {
   "cell_type": "markdown",
   "id": "4db35b7c",
   "metadata": {
    "pycharm": {
     "name": "#%% md\n"
    }
   },
   "source": [
    "Compute metrics on the inference data"
   ]
  },
  {
   "cell_type": "markdown",
   "id": "14edb80c",
   "metadata": {
    "pycharm": {
     "name": "#%% md\n"
    }
   },
   "source": [
    "### Accuracy, Precision, Recall, Precision Recall AUC, ROC AUC"
   ]
  },
  {
   "cell_type": "markdown",
   "id": "69b3feb8",
   "metadata": {
    "pycharm": {
     "name": "#%% md\n"
    }
   },
   "source": [
    "### Precision Recall Curve, AUC"
   ]
  },
  {
   "cell_type": "markdown",
   "id": "1b1689fc",
   "metadata": {
    "pycharm": {
     "name": "#%% md\n"
    }
   },
   "source": [
    "### ROC Curve, ROC AUC"
   ]
  },
  {
   "cell_type": "code",
   "execution_count": null,
   "id": "ba4c7d53",
   "metadata": {
    "pycharm": {
     "name": "#%%\n",
     "is_executing": true
    }
   },
   "outputs": [],
   "source": [
    "# code"
   ]
  },
  {
   "cell_type": "markdown",
   "id": "7f977ec8",
   "metadata": {
    "pycharm": {
     "name": "#%% md\n"
    }
   },
   "source": [
    "# Population Stability Index (PSI)"
   ]
  },
  {
   "cell_type": "markdown",
   "id": "a9b30851",
   "metadata": {
    "ExecuteTime": {
     "end_time": "2022-06-27T21:23:11.328099Z",
     "start_time": "2022-06-27T21:23:11.313066Z"
    },
    "pycharm": {
     "name": "#%% md\n"
    }
   },
   "source": [
    "**The population stability index (PSI)** is a statistic that measures how much a variable has shifted over time, and is used to monitor applicability of a statistical model to the current population.\n",
    "Details by the [link](https://scholarworks.wmich.edu/cgi/viewcontent.cgi?article=4249&context=dissertations#:~:text=The%20population%20stability%20index%20(PSI,model%20to%20the%20current%20population.)\n"
   ]
  },
  {
   "cell_type": "code",
   "execution_count": null,
   "id": "4d9b45d4",
   "metadata": {
    "pycharm": {
     "name": "#%%\n",
     "is_executing": true
    }
   },
   "outputs": [],
   "source": [
    "# code for psi"
   ]
  }
 ],
 "metadata": {
  "kernelspec": {
   "display_name": "Python 3 (ipykernel)",
   "language": "python",
   "name": "python3"
  },
  "language_info": {
   "codemirror_mode": {
    "name": "ipython",
    "version": 3
   },
   "file_extension": ".py",
   "mimetype": "text/x-python",
   "name": "python",
   "nbconvert_exporter": "python",
   "pygments_lexer": "ipython3",
   "version": "3.10.4"
  },
  "toc": {
   "base_numbering": 1,
   "nav_menu": {},
   "number_sections": true,
   "sideBar": true,
   "skip_h1_title": false,
   "title_cell": "Table of Contents",
   "title_sidebar": "Contents",
   "toc_cell": false,
   "toc_position": {},
   "toc_section_display": true,
   "toc_window_display": false
  },
  "varInspector": {
   "cols": {
    "lenName": 16,
    "lenType": 16,
    "lenVar": 40
   },
   "kernels_config": {
    "python": {
     "delete_cmd_postfix": "",
     "delete_cmd_prefix": "del ",
     "library": "var_list.py",
     "varRefreshCmd": "print(var_dic_list())"
    },
    "r": {
     "delete_cmd_postfix": ") ",
     "delete_cmd_prefix": "rm(",
     "library": "var_list.r",
     "varRefreshCmd": "cat(var_dic_list()) "
    }
   },
   "oldHeight": 122.844,
   "position": {
    "height": "40px",
    "left": "1544px",
    "right": "20px",
    "top": "99px",
    "width": "350px"
   },
   "types_to_exclude": [
    "module",
    "function",
    "builtin_function_or_method",
    "instance",
    "_Feature"
   ],
   "varInspector_section_display": "none",
   "window_display": true
  },
  "vscode": {
   "interpreter": {
    "hash": "a62875d3cd9a92796cb8eb12f2bf7baf9b27bcdb0e0bfda6d8edbc998b87b34b"
   }
  }
 },
 "nbformat": 4,
 "nbformat_minor": 5
}